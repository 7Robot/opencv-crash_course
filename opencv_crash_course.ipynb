{
  "nbformat": 4,
  "nbformat_minor": 0,
  "metadata": {
    "colab": {
      "name": "opencv_crash_course.ipynb",
      "provenance": [],
      "collapsed_sections": [],
      "toc_visible": true,
      "authorship_tag": "ABX9TyMmxdGDcqi8cSjAZGcsYRmr",
      "include_colab_link": true
    },
    "kernelspec": {
      "name": "python3",
      "display_name": "Python 3"
    }
  },
  "cells": [
    {
      "cell_type": "markdown",
      "metadata": {
        "id": "view-in-github",
        "colab_type": "text"
      },
      "source": [
        "<a href=\"https://colab.research.google.com/github/7Robot/opencv-crash_course/blob/master/opencv_crash_course.ipynb\" target=\"_parent\"><img src=\"https://colab.research.google.com/assets/colab-badge.svg\" alt=\"Open In Colab\"/></a>"
      ]
    },
    {
      "cell_type": "code",
      "metadata": {
        "id": "2aFgS0rHwyar",
        "colab_type": "code",
        "colab": {}
      },
      "source": [
        "import numpy as np"
      ],
      "execution_count": 0,
      "outputs": []
    },
    {
      "cell_type": "markdown",
      "metadata": {
        "id": "r2q2Q7rnz6eY",
        "colab_type": "text"
      },
      "source": [
        "Crash 0: pré-requis manipulation de tableaux avec numpy\n",
        "==============================\n",
        "\n",
        "Dans cet épisode on va voir comment manipuler des tableaux avec numpy. Tout d'abord on va voir comment on crée un tableau numpy:"
      ]
    },
    {
      "cell_type": "code",
      "metadata": {
        "id": "BkdR7cWJzSxk",
        "colab_type": "code",
        "colab": {}
      },
      "source": [
        "x = np.array([1,2,3])\n",
        "print(x)\n",
        "y = np.array([2, 4, 6])\n",
        "print(y)"
      ],
      "execution_count": 0,
      "outputs": []
    },
    {
      "cell_type": "markdown",
      "metadata": {
        "id": "5mVzhSCq0xQJ",
        "colab_type": "text"
      },
      "source": [
        "les tableaux numpy sont compatibles avec les opérateurs mathématiques:"
      ]
    },
    {
      "cell_type": "code",
      "metadata": {
        "id": "PIYu-8XE0-Ot",
        "colab_type": "code",
        "colab": {}
      },
      "source": [
        "print(\"on peut additionner un chiffre et un tableau:\")\n",
        "print(x + 1)"
      ],
      "execution_count": 0,
      "outputs": []
    },
    {
      "cell_type": "code",
      "metadata": {
        "id": "f1jjFKhQ1O4H",
        "colab_type": "code",
        "colab": {}
      },
      "source": [
        "print(\"on peut additionner un tableau et un tableau:\")\n",
        "print(x + y)"
      ],
      "execution_count": 0,
      "outputs": []
    },
    {
      "cell_type": "code",
      "metadata": {
        "id": "ER-RVUjT1wdd",
        "colab_type": "code",
        "colab": {}
      },
      "source": [
        "print(\"on peut multiplier un chiffre et un tableau:\")\n",
        "print(x * 2)"
      ],
      "execution_count": 0,
      "outputs": []
    },
    {
      "cell_type": "code",
      "metadata": {
        "id": "25BCdb7019nl",
        "colab_type": "code",
        "colab": {}
      },
      "source": [
        "print(\"on peut multiplier un tableau et un tableau (multiplication élément par élément):\")\n",
        "print(x * y)"
      ],
      "execution_count": 0,
      "outputs": []
    },
    {
      "cell_type": "markdown",
      "metadata": {
        "id": "IeCm08D62Ifv",
        "colab_type": "text"
      },
      "source": [
        "Les tableau peuvent avoir plusieurs dimensions:"
      ]
    },
    {
      "cell_type": "code",
      "metadata": {
        "id": "xpfrwyXR2hh7",
        "colab_type": "code",
        "colab": {}
      },
      "source": [
        "x2d = np.array(\n",
        "  [\n",
        "   [1,2,3],\n",
        "   [4,5,6]\n",
        "  ]\n",
        ")\n",
        "print(x2d)"
      ],
      "execution_count": 0,
      "outputs": []
    },
    {
      "cell_type": "markdown",
      "metadata": {
        "id": "2hLCjUsH3Z9b",
        "colab_type": "text"
      },
      "source": [
        "les tableaux numpy contiennent une variable \"shape\" qui permet de connaitre la forme du tableau"
      ]
    },
    {
      "cell_type": "code",
      "metadata": {
        "id": "504l-Xf13HKs",
        "colab_type": "code",
        "colab": {}
      },
      "source": [
        "print(\"x2d est une matrice de \" + str(x2d.shape) + \" éléments\")\n",
        "print(\"x est une matrice de \" + str(x.shape) + \" éléments\")"
      ],
      "execution_count": 0,
      "outputs": []
    },
    {
      "cell_type": "markdown",
      "metadata": {
        "id": "wtbAIVko3wzz",
        "colab_type": "text"
      },
      "source": [
        "on peux acceder à un élément en donnant ses coordonées (on parle d'index). Attention le premier élément à pour index 0 (contrairement à certains languages de sauvages)"
      ]
    },
    {
      "cell_type": "code",
      "metadata": {
        "id": "VL9dN4AN2slZ",
        "colab_type": "code",
        "colab": {}
      },
      "source": [
        "x2d[0,0]"
      ],
      "execution_count": 0,
      "outputs": []
    },
    {
      "cell_type": "code",
      "metadata": {
        "id": "fCLTscBh2yvZ",
        "colab_type": "code",
        "colab": {}
      },
      "source": [
        "print(x)\n",
        "print(\"le dernier element peut être indexé par -1: \" + str(x[-1]))"
      ],
      "execution_count": 0,
      "outputs": []
    },
    {
      "cell_type": "markdown",
      "metadata": {
        "id": "kTTvoHXU4vaI",
        "colab_type": "text"
      },
      "source": [
        "on peut récupérer une sous partie d'un tableau en utilisant le `:`\n",
        " - `x[:]` = tous les éléments de x\n",
        " - `x[:3]` = tous les éléments de x jusqu'a 3 (éléments 0, 1 et 2)\n",
        " - `x[3:]` = tous les éléments à partir de 3 (éléments 3,4,5..)\n",
        " - `x[3:5]` = élément de 3 jusqu'à 5 (elts 3, 4 )\n",
        "\n",
        "*pour les pros:* on peut faire `x[3:9:2]` qui signifie les élément de 3 jusqu'à 9 de deux en deux ( elts 3,5,7 )"
      ]
    },
    {
      "cell_type": "code",
      "metadata": {
        "id": "sGrIbOO44mcg",
        "colab_type": "code",
        "colab": {}
      },
      "source": [
        "print(\"ça fonctionne pour les tableaux 2d:\")\n",
        "print(x2d[:, 0])"
      ],
      "execution_count": 0,
      "outputs": []
    },
    {
      "cell_type": "markdown",
      "metadata": {
        "id": "9qq3d9491emX",
        "colab_type": "text"
      },
      "source": [
        "les tableaux numpy ont des fonctions utiles:\n",
        " - `x.min()` le min\n",
        " - `x.max()` le max\n",
        " - `x.mean()` la moyenne\n",
        " - `x.var()` la variance"
      ]
    },
    {
      "cell_type": "markdown",
      "metadata": {
        "id": "B8eJPZEd7xxj",
        "colab_type": "text"
      },
      "source": [
        "# Crash 1: chargement et manipulation d'images\n",
        "\n",
        "Une image est une grille de pixels, dans chaque case de la grille on stocke sa couleur ( luminosité rouge/vert/bleu )\n",
        "\n",
        "**Breaking news:** une image en fait c'est un tableau numpy. Mais un tableau 3d:\n",
        "( largeur x hauteur x 3 )\n",
        "![alt-text](https://www.bogotobogo.com/OpenCV/images/CreateMatObject/ThreeChannelArray.png)\n",
        "\n",
        "## Chargement et édition d'images\n",
        "\n",
        "\n",
        "On va utiliser la librairie [opencv](https://opencv.org/) pour manipuler les images."
      ]
    },
    {
      "cell_type": "code",
      "metadata": {
        "id": "HZh2OrfJ_Ek7",
        "colab_type": "code",
        "colab": {}
      },
      "source": [
        "import cv2\n",
        "from google.colab.patches import cv2_imshow # permet d'afficher les images (sur pc faire cv2.imshow())"
      ],
      "execution_count": 0,
      "outputs": []
    },
    {
      "cell_type": "code",
      "metadata": {
        "id": "G1X9i_Ep-kXP",
        "colab_type": "code",
        "colab": {}
      },
      "source": [
        "charlie = cv2.imread(\"charlie.png\")\n",
        "cv2_imshow(charlie)"
      ],
      "execution_count": 0,
      "outputs": []
    },
    {
      "cell_type": "code",
      "metadata": {
        "id": "yF-hpajLABKa",
        "colab_type": "code",
        "colab": {}
      },
      "source": [
        "charlie.shape"
      ],
      "execution_count": 0,
      "outputs": []
    },
    {
      "cell_type": "markdown",
      "metadata": {
        "id": "x_dNDneT2bMs",
        "colab_type": "text"
      },
      "source": [
        "## A vous de jouer! \n",
        "\n",
        "Test 1: Il faut rogner l'image de charlie afin d'en récupérer que la tête"
      ]
    },
    {
      "cell_type": "code",
      "metadata": {
        "id": "zBQz3fG_7scg",
        "colab_type": "code",
        "colab": {}
      },
      "source": [
        "# code pour rogner une image"
      ],
      "execution_count": 0,
      "outputs": []
    },
    {
      "cell_type": "markdown",
      "metadata": {
        "id": "ep02jET022tI",
        "colab_type": "text"
      },
      "source": [
        "Test 2: il faut charger l'image de pouah ( oui oui il s'appelle comme ça ). Et visualiser indépendamment le rouge, le vert et le bleu. Convertir l'image en noir et blanc. (bonus: comparer les image noir et blanc de charlie et pouah)"
      ]
    },
    {
      "cell_type": "code",
      "metadata": {
        "id": "-Au7B9zO7vdF",
        "colab_type": "code",
        "colab": {}
      },
      "source": [
        "# code pour visualiser les channels d'une image"
      ],
      "execution_count": 0,
      "outputs": []
    },
    {
      "cell_type": "markdown",
      "metadata": {
        "id": "4QotjXws4D6R",
        "colab_type": "text"
      },
      "source": [
        "Test 3: charger l'image de l'appareil photo ( `ap_photo.png` ) et l'ajouter sur l'image de charlie. ( et là, concours du plus **beau** résultat )"
      ]
    },
    {
      "cell_type": "code",
      "metadata": {
        "id": "TuEWwBgP72Uw",
        "colab_type": "code",
        "colab": {}
      },
      "source": [
        "# code pour intégrer un image dans une autre"
      ],
      "execution_count": 0,
      "outputs": []
    },
    {
      "cell_type": "markdown",
      "metadata": {
        "id": "rsY7KAb06Wfk",
        "colab_type": "text"
      },
      "source": [
        "## Les fonctions de dessin\n",
        "\n",
        "OpenCV regorge de fonctions permettant de faire du dessin, on peut y faire des trais, ronds, carrés rectangles, texte etc...\n",
        "\n",
        "\n",
        "Là je vous laisse délibérment sans aide, le but va être de chercher dans la documentation d'openCV comment tracer un cercle autour de la tête de charlie."
      ]
    },
    {
      "cell_type": "code",
      "metadata": {
        "id": "WYwntRuT7exj",
        "colab_type": "code",
        "colab": {}
      },
      "source": [
        "# code pour mettre une auréole a charlie"
      ],
      "execution_count": 0,
      "outputs": []
    },
    {
      "cell_type": "markdown",
      "metadata": {
        "id": "MQ53x5D--i18",
        "colab_type": "text"
      },
      "source": [
        "\n",
        "\n",
        "---\n",
        "\n",
        "\n",
        "**ON S'ARRETE ICI**\n",
        "\n",
        "\n",
        "---\n",
        "\n"
      ]
    },
    {
      "cell_type": "markdown",
      "metadata": {
        "id": "7_jfPZeO7NJC",
        "colab_type": "text"
      },
      "source": [
        "# Crash 2: Les opérations de filtrage\n",
        "\n",
        "Les opérations de filtrage sont très très utilisées en vision. On va voir quelques classiques\n",
        "\n",
        "Test 1: appliquer un flou Gaussien sur charlie ( il existe deux méthodes une avec `cv2.filter2D`, une avec `cv2.GaussianBlur()` )"
      ]
    },
    {
      "cell_type": "code",
      "metadata": {
        "id": "6xS8uUCO-GSa",
        "colab_type": "code",
        "colab": {}
      },
      "source": [
        "# ici code du flou gaussien"
      ],
      "execution_count": 0,
      "outputs": []
    },
    {
      "cell_type": "markdown",
      "metadata": {
        "id": "LNUHvVzI-G0p",
        "colab_type": "text"
      },
      "source": [
        "Test 2: Faire de même pour un flou médian"
      ]
    },
    {
      "cell_type": "code",
      "metadata": {
        "id": "CUrwm1tp-KtH",
        "colab_type": "code",
        "colab": {}
      },
      "source": [
        "# code du flou médian"
      ],
      "execution_count": 0,
      "outputs": []
    },
    {
      "cell_type": "markdown",
      "metadata": {
        "id": "dTd_O1PI-KMW",
        "colab_type": "text"
      },
      "source": [
        "Test 3: calculer pour chaque pixel la différence avec son voisin de droite, faire de même avec son voisin du bas"
      ]
    },
    {
      "cell_type": "code",
      "metadata": {
        "id": "lolLNK5P-1n-",
        "colab_type": "code",
        "colab": {}
      },
      "source": [
        "# calcul des dérivées d'une image"
      ],
      "execution_count": 0,
      "outputs": []
    },
    {
      "cell_type": "markdown",
      "metadata": {
        "id": "ame9QfNjAhQz",
        "colab_type": "text"
      },
      "source": [
        "Test 4: appliquer un filtre2D avec le kernel suivant:\n",
        "\\begin{bmatrix}\n",
        "0 &-1 & 0 \\\\ \n",
        "1 & 5 &-1 \\\\\n",
        "0 &-1 & 0 \\\\\n",
        "\\end{bmatrix}\n",
        "( marche mieux sur l'image `lena.jpg`)\n"
      ]
    },
    {
      "cell_type": "code",
      "metadata": {
        "id": "wOcYu9DvBZw-",
        "colab_type": "code",
        "colab": {}
      },
      "source": [
        "# code du filtre mystère"
      ],
      "execution_count": 0,
      "outputs": []
    },
    {
      "cell_type": "markdown",
      "metadata": {
        "id": "W9g8OFyc-7ei",
        "colab_type": "text"
      },
      "source": [
        "Test 5: les deux images obtenues au test 3 sont en réalité les composantes x et y d'un champ de vecteurs, calculer et afficher le module de ce champ de vecteurs. ( filtre de Sobel )"
      ]
    },
    {
      "cell_type": "code",
      "metadata": {
        "id": "fesqmW2j_wob",
        "colab_type": "code",
        "colab": {}
      },
      "source": [
        "# filtre de Sobel"
      ],
      "execution_count": 0,
      "outputs": []
    },
    {
      "cell_type": "markdown",
      "metadata": {
        "id": "brItl_0aBoWu",
        "colab_type": "text"
      },
      "source": [
        "Test 6: on va utilser la tête de charlie comme kernel pour le filtre2D sur l'image complète.\n",
        "\n",
        "**attention**\n",
        " - il faut convertir lee images en noir et blanc pour avoir une matrice 2D\n",
        " - il faut diviser le kernel par la somme de ses valeurs pour ne par perturber la luminosité\n",
        " - on va multiplier le kernel par -1 ( vous aller comprendre pourquoi en dépliant les maths derrière )"
      ]
    },
    {
      "cell_type": "code",
      "metadata": {
        "id": "w0cINxS0CN-Q",
        "colab_type": "code",
        "colab": {}
      },
      "source": [
        "# code du second filtre mystère"
      ],
      "execution_count": 0,
      "outputs": []
    },
    {
      "cell_type": "markdown",
      "metadata": {
        "id": "8RT3mn1PGVI8",
        "colab_type": "text"
      },
      "source": [
        "\n",
        "\n",
        "---\n",
        "\n",
        "\n",
        "**ON S'ARRETE ICI**\n",
        "\n",
        "\n",
        "\n",
        "---\n",
        "\n"
      ]
    },
    {
      "cell_type": "markdown",
      "metadata": {
        "id": "fSHFiiymFxez",
        "colab_type": "text"
      },
      "source": [
        "# Crash 3: Un détecteur de \"Charlie\"\n",
        "\n",
        "On passe aux choses serieuses: on va utiliser ce qu'on à appris pour chercher les différentes personnes et objets à chercher dans \"ou est Charlie\".\n",
        "\n",
        "Pour se faire on va utiliser le fonction `cv2.matchTemplate`. Je vous laisse le soin de chercher comment cette fonction s'utilise."
      ]
    },
    {
      "cell_type": "code",
      "metadata": {
        "id": "5ufEHRKAIW-b",
        "colab_type": "code",
        "colab": {}
      },
      "source": [
        "extract2 = cv2.imread(\"extract.jpg\")\n",
        "cv2_imshow(extract)"
      ],
      "execution_count": 0,
      "outputs": []
    },
    {
      "cell_type": "code",
      "metadata": {
        "id": "Y30sOyr6W4dF",
        "colab_type": "code",
        "colab": {}
      },
      "source": [
        "template = cv2.imread(\"template.jpg\")\n",
        "cv2_imshow(template)"
      ],
      "execution_count": 0,
      "outputs": []
    },
    {
      "cell_type": "code",
      "metadata": {
        "id": "exrPo8hcJobz",
        "colab_type": "code",
        "colab": {}
      },
      "source": [
        "def find_charlie(img, template):\n",
        "  img = img.copy()\n",
        "  ...\n",
        "\n",
        "find_charlie(extract2, template)"
      ],
      "execution_count": 0,
      "outputs": []
    }
  ]
}